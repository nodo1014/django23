{
 "cells": [
  {
   "cell_type": "code",
   "execution_count": 1,
   "id": "98f3c3f3",
   "metadata": {},
   "outputs": [
    {
     "ename": "SyntaxError",
     "evalue": "invalid syntax (1169801597.py, line 1)",
     "output_type": "error",
     "traceback": [
      "\u001b[0;36m  File \u001b[0;32m\"/var/folders/ns/jw6vzv792n9gnxcgnyv7rdsm0000gn/T/ipykernel_48143/1169801597.py\"\u001b[0;36m, line \u001b[0;32m1\u001b[0m\n\u001b[0;31m    delete from table\u001b[0m\n\u001b[0m              ^\u001b[0m\n\u001b[0;31mSyntaxError\u001b[0m\u001b[0;31m:\u001b[0m invalid syntax\n"
     ]
    }
   ],
   "source": [
    "delete from table\n",
    "WHERE  NOT EXISTS (SELECT 1 FROM other_table t WHERE table.id = other_table.foreign_key)"
   ]
  },
  {
   "cell_type": "code",
   "execution_count": null,
   "id": "91401f9d",
   "metadata": {},
   "outputs": [],
   "source": []
  }
 ],
 "metadata": {
  "kernelspec": {
   "display_name": "Python 3 (ipykernel)",
   "language": "python",
   "name": "python3"
  },
  "language_info": {
   "codemirror_mode": {
    "name": "ipython",
    "version": 3
   },
   "file_extension": ".py",
   "mimetype": "text/x-python",
   "name": "python",
   "nbconvert_exporter": "python",
   "pygments_lexer": "ipython3",
   "version": "3.7.16"
  }
 },
 "nbformat": 4,
 "nbformat_minor": 5
}
